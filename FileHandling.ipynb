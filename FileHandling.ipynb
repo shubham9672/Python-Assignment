{
 "cells": [
  {
   "cell_type": "markdown",
   "id": "38dfd658",
   "metadata": {},
   "source": [
    "Q-1 Create sample data. Write this sample data to a new text file. Read the sample data from the text file, append some new data, and write it back to the text file. The text file must contain both the\n",
    "previous data as well as the updated one."
   ]
  },
  {
   "cell_type": "code",
   "execution_count": 9,
   "id": "e5ebad59",
   "metadata": {},
   "outputs": [
    {
     "name": "stdout",
     "output_type": "stream",
     "text": [
      "Lorem Ipsum is simply dummy text of the printing and typesetting industry. Lorem Ipsum has been the industry's standard dummy text ever since the 1500s, when an unknown printer took a galley of type and scrambled it to make a type specimen book. It has survived not only five centuries, but also the leap into electronic typesetting, remaining essentially unchanged. It was popularised in the 1960s with the release of Letraset sheets containing Lorem Ipsum passages, and more recently with desktop publishing software like Aldus PageMaker including versions of Lorem Ipsum.\n",
      "\n",
      "\u0000\u0000\u0000\u0000\u0000\u0000\u0000\u0000\u0000\u0000\u0000\u0000\u0000\u0000\u0000\u0000\u0000\u0000\u0000\u0000\u0000\u0000\u0000\u0000\u0000\u0000\u0000\u0000\u0000\u0000\u0000\u0000\u0000\u0000\u0000\u0000\u0000\u0000\u0000\u0000\u0000\u0000\u0000\u0000\u0000\u0000\u0000\u0000\u0000\u0000\u0000\u0000\u0000\u0000\u0000\u0000\u0000\u0000\u0000\u0000\u0000\u0000\u0000\u0000\u0000\u0000\u0000\u0000\n",
      "\n",
      "If you don't want to enter more data just type 'END' \n",
      "Enter the data :Hi Shubham\n",
      "If you don't want to enter more data just type 'END' \n",
      "Enter the data :END\n"
     ]
    }
   ],
   "source": [
    "file=open('SampleData.txt','r+')\n",
    "for value in file.readlines():\n",
    "    print(value)\n",
    "s=''\n",
    "while s!='END':\n",
    "    file.write(f'\\n{s}')\n",
    "    print(\"If you don't want to enter more data just type 'END' \")\n",
    "    s=input('Enter the data :')"
   ]
  },
  {
   "cell_type": "markdown",
   "id": "61fb1b69",
   "metadata": {},
   "source": [
    "Q-2 Create a sample.csv file, read the CSV file, and print each row to stdout. Add another column to the CSV and update the CSV file. Again read the updated CSV file and print each row."
   ]
  },
  {
   "cell_type": "code",
   "execution_count": 41,
   "id": "cfdfff6c",
   "metadata": {},
   "outputs": [
    {
     "name": "stdout",
     "output_type": "stream",
     "text": [
      "Fields: ['Country', 'Age', 'Salary', 'Purchased']\n",
      "        ['France', '44', '72000', 'No']\n",
      "        ['Spain', '27', '48000', 'Yes']\n",
      "        ['Germany', '30', '54000', 'No']\n",
      "        ['Spain', '38', '61000', 'No']\n",
      "        ['Germany', '40', '', 'Yes']\n",
      "        ['France', '35', '58000', 'Yes']\n",
      "        ['Spain', '', '52000', 'No']\n",
      "        ['France', '48', '79000', 'Yes']\n",
      "        ['Germany', '50', '83000', 'No']\n",
      "        ['France', '37', '67000', 'Yes']\n",
      "\n",
      "------After Column Updation------\n",
      "\n",
      "Fields: ['Country', 'Age', 'Salary', 'Purchased']\n",
      "        ['France', '44', '72000', 'No']\n",
      "        ['Spain', '27', '48000', 'Yes']\n",
      "        ['Germany', '30', '54000', 'No']\n",
      "        ['Spain', '38', '61000', 'No']\n",
      "        ['Germany', '40', '', 'Yes']\n",
      "        ['France', '35', '58000', 'Yes']\n",
      "        ['Spain', '', '52000', 'No']\n",
      "        ['France', '48', '79000', 'Yes']\n",
      "        ['Germany', '50', '83000', 'No']\n",
      "        ['France', '37', '67000', 'YesCountry', 'Age', 'Salary', 'Purchased', 'FeedBack']\n",
      "        ['France', '44', '72000', 'No', 'France']\n",
      "        ['Spain', '27', '48000', 'Yes', 'Spain']\n",
      "        ['Germany', '30', '54000', 'No', 'Germany']\n",
      "        ['Spain', '38', '61000', 'No', 'Spain']\n",
      "        ['Germany', '40', '', 'Yes', 'Germany']\n",
      "        ['France', '35', '58000', 'Yes', 'France']\n",
      "        ['Spain', '', '52000', 'No', 'Spain']\n",
      "        ['France', '48', '79000', 'Yes', 'France']\n",
      "        ['Germany', '50', '83000', 'No', 'Germany']\n",
      "        ['France', '37', '67000', 'Yes', 'France']\n",
      "\n",
      "------After Row Updation------\n",
      "\n",
      "Fields: ['Country', 'Age', 'Salary', 'Purchased']\n",
      "        ['France', '44', '72000', 'No']\n",
      "        ['Spain', '27', '48000', 'Yes']\n",
      "        ['Germany', '30', '54000', 'No']\n",
      "        ['Spain', '38', '61000', 'No']\n",
      "        ['Germany', '40', '', 'Yes']\n",
      "        ['France', '35', '58000', 'Yes']\n",
      "        ['Spain', '', '52000', 'No']\n",
      "        ['France', '48', '79000', 'Yes']\n",
      "        ['Germany', '50', '83000', 'No']\n",
      "        ['France', '37', '67000', 'YesCountry', 'Age', 'Salary', 'Purchased', 'FeedBack']\n",
      "        ['France', '44', '72000', 'No', 'France']\n",
      "        ['Spain', '27', '48000', 'Yes', 'Spain']\n",
      "        ['Germany', '30', '54000', 'No', 'Germany']\n",
      "        ['Spain', '38', '61000', 'No', 'Spain']\n",
      "        ['Germany', '40', '', 'Yes', 'Germany']\n",
      "        ['France', '35', '58000', 'Yes', 'France']\n",
      "        ['Spain', '', '52000', 'No', 'Spain']\n",
      "        ['France', '48', '79000', 'Yes', 'France']\n",
      "        ['Germany', '50', '83000', 'No', 'Germany']\n",
      "        ['France', '37', '67000', 'Yes', 'France']\n",
      "        ['India', '55', '96000', 'Yes']\n",
      "        []\n"
     ]
    }
   ],
   "source": [
    "import csv\n",
    "def read():\n",
    "    with open('data.csv','r') as f:\n",
    "        data = csv.reader(f)\n",
    "        print(f'Fields: {next(data)}')\n",
    "        for row in data:\n",
    "            print(f'        {row}')\n",
    "def updateColumn():\n",
    "    with open('data.csv','r') as csvinput:\n",
    "        with open('data.csv', 'a') as csvoutput:\n",
    "            writer = csv.writer(csvoutput, lineterminator='\\n')\n",
    "            reader = csv.reader(csvinput)\n",
    "\n",
    "            l = []\n",
    "            row = next(reader)\n",
    "            row.append('FeedBack')\n",
    "            l.append(row)\n",
    "            for row in reader:\n",
    "                row.append(row[0])\n",
    "                l.append(row)\n",
    "\n",
    "            writer.writerows(l)\n",
    "def updateRow():\n",
    "    with open('data.csv', 'a') as file:\n",
    "        csvWriter=csv.writer(file)\n",
    "        l= ['India', '55', '96000', 'Yes']\n",
    "        csvWriter.writerow(l)\n",
    "\n",
    "read()\n",
    "print('\\n------After Column Updation------\\n')\n",
    "updateColumn()\n",
    "read()\n",
    "print('\\n------After Row Updation------\\n')\n",
    "updateRow()\n",
    "read()\n"
   ]
  },
  {
   "cell_type": "code",
   "execution_count": null,
   "id": "17a9b162",
   "metadata": {},
   "outputs": [],
   "source": []
  }
 ],
 "metadata": {
  "kernelspec": {
   "display_name": "Python 3",
   "language": "python",
   "name": "python3"
  },
  "language_info": {
   "codemirror_mode": {
    "name": "ipython",
    "version": 3
   },
   "file_extension": ".py",
   "mimetype": "text/x-python",
   "name": "python",
   "nbconvert_exporter": "python",
   "pygments_lexer": "ipython3",
   "version": "3.8.8"
  }
 },
 "nbformat": 4,
 "nbformat_minor": 5
}
