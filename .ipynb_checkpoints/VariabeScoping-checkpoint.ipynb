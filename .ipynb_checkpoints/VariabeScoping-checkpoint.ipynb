{
 "cells": [
  {
   "cell_type": "markdown",
   "id": "0aad9eba",
   "metadata": {},
   "source": [
    " Q-1 Given the below code snippet, answer the following questions."
   ]
  },
  {
   "cell_type": "code",
   "execution_count": null,
   "id": "44cc9d34",
   "metadata": {},
   "outputs": [],
   "source": [
    "def num_square(num):\n",
    "    square = num * num\n",
    "    return square\n",
    "input_num = 121\n",
    "if input_num >100:\n",
    "    result = num_square(5)\n",
    "    print(result)"
   ]
  },
  {
   "cell_type": "markdown",
   "id": "c1617b3c",
   "metadata": {},
   "source": [
    "1. What is the scope of num, square, input_num, result?\n",
    "\n",
    "Ans:- num is a local variable whoes scope is only inside the num_square function.\n",
    "square is also a local variable whoes scope is only inside the num_square function. \n",
    "input_num is a global variable whoes scope is only inside the the whole program.\n",
    "result is a local variable whoes scope is only inside the if statement.\n",
    "\n",
    "2. What is the lifetime of each variable? When will they be created and destroyed?\n",
    "\n",
    "Ans:- \n",
    "* Local variable lifetime is starts when the execution of its scope start and ends when the execution of that scope ends. like in given above program when the execution of num_square starts lifetime of square variable starts and when its executions completes life time of square variable ends\n",
    "* Global variables live from when the module is imported until the end of the application - unless the variable is explicitly deleted.\n",
    "\n",
    "3. What would happen if input_num had a value of less than 100?\n",
    "\n",
    "Ans:- Nothing while happen\n",
    "\n",
    "4. What would be the scope and value of `result` if input_num has a value of less than 100?\n",
    "\n",
    "Ans:- result is a local variable whoes "
   ]
  },
  {
   "cell_type": "code",
   "execution_count": 12,
   "id": "6c5d4c47",
   "metadata": {},
   "outputs": [
    {
     "name": "stdout",
     "output_type": "stream",
     "text": [
      "25\n"
     ]
    }
   ],
   "source": [
    "def num_square(num):\n",
    "    square = num * num\n",
    "    return square\n",
    "input_num = 88\n",
    "if input_num>100:\n",
    "    result = num_square(4)\n",
    "print(result)"
   ]
  },
  {
   "cell_type": "code",
   "execution_count": null,
   "id": "e9ce6f7a",
   "metadata": {},
   "outputs": [],
   "source": []
  }
 ],
 "metadata": {
  "kernelspec": {
   "display_name": "Python 3",
   "language": "python",
   "name": "python3"
  },
  "language_info": {
   "codemirror_mode": {
    "name": "ipython",
    "version": 3
   },
   "file_extension": ".py",
   "mimetype": "text/x-python",
   "name": "python",
   "nbconvert_exporter": "python",
   "pygments_lexer": "ipython3",
   "version": "3.8.8"
  }
 },
 "nbformat": 4,
 "nbformat_minor": 5
}
