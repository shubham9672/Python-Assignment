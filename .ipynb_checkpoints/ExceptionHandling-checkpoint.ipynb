{
 "cells": [
  {
   "cell_type": "markdown",
   "id": "efc36bb6",
   "metadata": {},
   "source": [
    "Q-1 Write a function that raises 5 built in python exceptions without using the raise key word and\n",
    "print appropriate messages for each exception."
   ]
  },
  {
   "cell_type": "code",
   "execution_count": 6,
   "id": "875c2944",
   "metadata": {},
   "outputs": [
    {
     "name": "stdout",
     "output_type": "stream",
     "text": [
      "Int & String are different datatype\n",
      "Variable Name Error\n"
     ]
    }
   ],
   "source": [
    "from decimal import DivisionByZero\n",
    "def InputError():\n",
    "    try:\n",
    "        no=int(input(\"Enter the Number\"))\n",
    "        print(no)\n",
    "    except ValueError:\n",
    "        print(\"Input must be a Number\")\n",
    "def divideByZero():\n",
    "    try:\n",
    "        print(10/0)\n",
    "    except DivisionByZero as error:\n",
    "        print(error)\n",
    "def indexError():\n",
    "    try:\n",
    "        l=[2,3,5]\n",
    "        print(l[7])\n",
    "    except IndexError as error:\n",
    "        print('Out of index')\n",
    "def dataTypeError():\n",
    "    try:\n",
    "        print(5+\"5\")\n",
    "    except TypeError as error:\n",
    "        print(\"Int & String are different datatype\")\n",
    "def nameError():\n",
    "    try:\n",
    "        var=5\n",
    "        print(v)\n",
    "    except NameError as error:\n",
    "        print(\"Variable Name Error\")\n",
    "\n",
    "#InputError()\n",
    "#divideByZero()\n",
    "#indexError()\n",
    "dataTypeError()\n",
    "nameError()"
   ]
  },
  {
   "cell_type": "code",
   "execution_count": null,
   "id": "c7ae0d5e",
   "metadata": {},
   "outputs": [],
   "source": []
  }
 ],
 "metadata": {
  "kernelspec": {
   "display_name": "Python 3",
   "language": "python",
   "name": "python3"
  },
  "language_info": {
   "codemirror_mode": {
    "name": "ipython",
    "version": 3
   },
   "file_extension": ".py",
   "mimetype": "text/x-python",
   "name": "python",
   "nbconvert_exporter": "python",
   "pygments_lexer": "ipython3",
   "version": "3.8.8"
  }
 },
 "nbformat": 4,
 "nbformat_minor": 5
}
