{
 "cells": [
  {
   "cell_type": "markdown",
   "id": "0aa5d571",
   "metadata": {},
   "source": [
    "Q-1 Write a Python program to get a string made of the first 2 and the last 2 chars from a given string. If the string length is less than 2, return instead of the empty string."
   ]
  },
  {
   "cell_type": "code",
   "execution_count": 5,
   "id": "eea5b85a",
   "metadata": {},
   "outputs": [
    {
     "name": "stdout",
     "output_type": "stream",
     "text": [
      "Enter the String: w3resource\n",
      "w3ce\n"
     ]
    }
   ],
   "source": [
    "def stringConverte(string):\n",
    "    if(len(string)<2):\n",
    "        return \"Empty String\"\n",
    "    else:\n",
    "        return string[:2] + string[(len(string)-2):]\n",
    "string = input('Enter the String: ')\n",
    "print(stringConverte(string))"
   ]
  },
  {
   "cell_type": "markdown",
   "id": "389b633a",
   "metadata": {},
   "source": [
    "Q-2 Write a program to get the largest number from a list"
   ]
  },
  {
   "cell_type": "code",
   "execution_count": 12,
   "id": "26ea82d3",
   "metadata": {},
   "outputs": [
    {
     "name": "stdout",
     "output_type": "stream",
     "text": [
      "Enter list elements seprated with ',' : 12,55,14,84,75,18\n",
      "Max of the list using 1st method 84\n",
      "Max of the list using 2nd method 84\n",
      "Max of the list using 3rd method 84\n"
     ]
    }
   ],
   "source": [
    "def returnMax_1(l):\n",
    "    l.sort()\n",
    "    return l[len(l)-1]\n",
    "def returnMax_2(l):\n",
    "    maax=-1\n",
    "    for value in l:\n",
    "        if(maax<value):\n",
    "            maax=value\n",
    "    return maax\n",
    "def main():\n",
    "    l=list(map(int,input(\"Enter list elements seprated with ',' : \").split(',')))\n",
    "    print(f'Max of the list using 1st method {returnMax_1(l)}')\n",
    "    print(f'Max of the list using 2nd method {returnMax_2(l)}')    \n",
    "    print(f'Max of the list using 3rd method {max(l)}')\n",
    "if __name__=='__main__':\n",
    "    main()"
   ]
  },
  {
   "cell_type": "markdown",
   "id": "6802ca83",
   "metadata": {},
   "source": [
    "Q-3 Write a Python script to concatenate following dictionaries to create a new one.\n",
    "Sample Dictionary:\n",
    "dic1={1:10, 2:20}\n",
    "\n",
    "dic2={3:30, 4:40}\n",
    "\n",
    "dic3={5:50,6:60}"
   ]
  },
  {
   "cell_type": "code",
   "execution_count": 16,
   "id": "54c42438",
   "metadata": {},
   "outputs": [
    {
     "name": "stdout",
     "output_type": "stream",
     "text": [
      "{1: 10, 2: 20, 3: 30, 4: 40, 5: 50, 6: 60}\n"
     ]
    }
   ],
   "source": [
    "dic1={1:10, 2:20}\n",
    "dic2={3:30, 4:40}\n",
    "dic3={5:50,6:60}\n",
    "dic1.update(dic2)\n",
    "dic1.update(dic3)\n",
    "print(dic1)"
   ]
  },
  {
   "cell_type": "code",
   "execution_count": null,
   "id": "71d1d0a1",
   "metadata": {},
   "outputs": [],
   "source": []
  }
 ],
 "metadata": {
  "kernelspec": {
   "display_name": "Python 3",
   "language": "python",
   "name": "python3"
  },
  "language_info": {
   "codemirror_mode": {
    "name": "ipython",
    "version": 3
   },
   "file_extension": ".py",
   "mimetype": "text/x-python",
   "name": "python",
   "nbconvert_exporter": "python",
   "pygments_lexer": "ipython3",
   "version": "3.8.8"
  }
 },
 "nbformat": 4,
 "nbformat_minor": 5
}
