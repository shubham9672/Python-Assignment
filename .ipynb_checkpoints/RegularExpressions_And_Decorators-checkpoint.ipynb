{
 "cells": [
  {
   "cell_type": "markdown",
   "id": "38770919",
   "metadata": {},
   "source": [
    "Q-1 Create a function that takes a date string as an input and checks if it is of the format Month date, year. The month must be the full month name and date must have 0 padding (01) and year must have full\n",
    "year. Example June 03, 2007\n",
    "* If the date is not valid the function must return false otherwise true.\n"
   ]
  },
  {
   "cell_type": "code",
   "execution_count": 4,
   "id": "2223371f",
   "metadata": {},
   "outputs": [
    {
     "name": "stdout",
     "output_type": "stream",
     "text": [
      "Please enter the date: June 25 2004\n",
      "Valid\n"
     ]
    }
   ],
   "source": [
    "import re\n",
    "\n",
    "def isValidDate(date):\n",
    "    l = date.split(\" \")\n",
    "    months = ['january', 'february', 'march', 'april', 'may', 'june', 'july', 'august', 'september', 'october', 'november', 'december']\n",
    "    if l[0].lower() in months and re.findall(\"[0-3][0-9]\", l[1]) and len(re.findall(\"\\d\", l[2])) == 4:\n",
    "        if (months.index(l[0].lower())+1) == 2 :\n",
    "            if int(l[2]) % 400 == 0 and int(l[1]) <= 29:\n",
    "                return \"Valid\"\n",
    "            elif int(l[2]) % 400 != 0 and int(l[1]) <= 28:\n",
    "                return \"Valid\"\n",
    "            else:\n",
    "                return \"Invalid\"\n",
    "\n",
    "        elif (months.index(l[0].lower())+1) % 2 == 0 and (months.index(l[0].lower())+1) != 2:\n",
    "            if int(l[1]) <=30:\n",
    "                return \"Valid\"\n",
    "            else:\n",
    "                return \"Invalid\"\n",
    "\n",
    "        elif int(l[1]) <=31 and (months.index(l[0].lower())+1) != 2:\n",
    "            return \"Valid\"\n",
    "\n",
    "        else:\n",
    "            return \"Invalid\"\n",
    "\n",
    "    else:\n",
    "        return \"Invalid\"\n",
    "date=input(\"Please enter the date: \")\n",
    "print(isValidDate(date))"
   ]
  },
  {
   "cell_type": "markdown",
   "id": "7b6e12fc",
   "metadata": {},
   "source": [
    "Q-2 Create a function that checks if a number is a valid credit card number. If not it must return false otherwise true. \n",
    "\n",
    "The following are the conditions.\n",
    "\n",
    "* It must start with a 3, 4 or 9.\n",
    "\n",
    "* It must contain exactly 16 digits.\n",
    "\n",
    "* It must only consist of digits (0-9).\n",
    "\n",
    "* It must have digits in groups of 4, separated by one hyphen \"-\".\n",
    "\n",
    "* It must NOT have 2 or more consecutive repeated digits."
   ]
  },
  {
   "cell_type": "code",
   "execution_count": 12,
   "id": "f5a079c6",
   "metadata": {},
   "outputs": [
    {
     "name": "stdout",
     "output_type": "stream",
     "text": [
      "Enter the number seprated by \"-\" : 3546-8456-7852-9457\n",
      "Credit Card Number is Valid\n"
     ]
    }
   ],
   "source": [
    "import re\n",
    "def isValidCreditNo(card_no):\n",
    "    card = card_no.split(\"-\")\n",
    "    new_card = ''.join(card)\n",
    "    group = list(set([len(i) for i in card]))\n",
    "    res = False\n",
    "    if len(new_card) == 16 and len(re.findall(\"\\d\",new_card)) == 16 and group[0] == 4: \n",
    "        if re.findall(\"\\A3\", card_no) or re.findall(\"\\A4\", card_no) or re.findall(\"\\A9\", card_no): \n",
    "            res = True\n",
    "\n",
    "    if res == True: \n",
    "        cnt=0\n",
    "        for i in range(len(new_card) - 1):\n",
    "            if new_card[i] == new_card[i + 1]:\n",
    "                cnt+=1\n",
    "                if cnt == 2:\n",
    "                    res = False\n",
    "                    break\n",
    "    return res\n",
    "\n",
    "no=input('Enter the number seprated by \"-\" : ')\n",
    "if isValidCreditNo(no) == True:\n",
    "    print(\"Credit Card Number is Valid\")\n",
    "else:\n",
    "    print(\"Credit Card Number is Invalid\")"
   ]
  },
  {
   "cell_type": "markdown",
   "id": "48c9bebb",
   "metadata": {},
   "source": [
    "# Decorators"
   ]
  },
  {
   "cell_type": "markdown",
   "id": "f460da73",
   "metadata": {},
   "source": [
    "Q-1 Write a decorator function_timer that times the execution of any function it is attached to and print the time taken after the function execution ends."
   ]
  },
  {
   "cell_type": "code",
   "execution_count": 21,
   "id": "00e3a051",
   "metadata": {},
   "outputs": [
    {
     "name": "stdout",
     "output_type": "stream",
     "text": [
      "Execution 0.1489s\n"
     ]
    }
   ],
   "source": [
    "from time import time\n",
    "\n",
    "\n",
    "def function_timer(func):\n",
    "\tdef wrap_func(*args, **kwargs):\n",
    "\t\tt1 = time()\n",
    "\t\tresult = func(*args, **kwargs)\n",
    "\t\tt2 = time()\n",
    "\t\tprint(f'Execution {(t2-t1):.4f}s')\n",
    "\t\treturn result\n",
    "\treturn wrap_func\n",
    "\n",
    "\n",
    "@function_timer\n",
    "def fun_time(n):\n",
    "    for i in range(n):\n",
    "        for j in range(100000):\n",
    "            i+j\n",
    "            i*j\n",
    "\n",
    "fun_time(10)\n"
   ]
  }
 ],
 "metadata": {
  "kernelspec": {
   "display_name": "Python 3",
   "language": "python",
   "name": "python3"
  },
  "language_info": {
   "codemirror_mode": {
    "name": "ipython",
    "version": 3
   },
   "file_extension": ".py",
   "mimetype": "text/x-python",
   "name": "python",
   "nbconvert_exporter": "python",
   "pygments_lexer": "ipython3",
   "version": "3.8.8"
  }
 },
 "nbformat": 4,
 "nbformat_minor": 5
}
