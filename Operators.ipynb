{
 "cells": [
  {
   "cell_type": "markdown",
   "id": "8afa802b",
   "metadata": {},
   "source": [
    "Q-1 Write a Python program which accepts the radius of a circle from the user and compute the area."
   ]
  },
  {
   "cell_type": "code",
   "execution_count": 6,
   "id": "9968dd1d",
   "metadata": {},
   "outputs": [
    {
     "name": "stdout",
     "output_type": "stream",
     "text": [
      "Enter radius of the circle: 1.1\n",
      "3.8013271108436504\n"
     ]
    }
   ],
   "source": [
    "import math\n",
    "radius=float(input('Enter radius of the circle: '))\n",
    "print((radius**2)*math.pi)"
   ]
  },
  {
   "cell_type": "markdown",
   "id": "0ab6a820",
   "metadata": {},
   "source": [
    "Q-2 Write a Python program that accepts an integer (n) and computes the value of n+nn+nnn"
   ]
  },
  {
   "cell_type": "code",
   "execution_count": 13,
   "id": "ccc68b47",
   "metadata": {},
   "outputs": [
    {
     "name": "stdout",
     "output_type": "stream",
     "text": [
      "10\n",
      "102030\n"
     ]
    }
   ],
   "source": [
    "n=input()\n",
    "print(int(n)+int(n*2)+int(n*3))"
   ]
  },
  {
   "cell_type": "markdown",
   "id": "e19627eb",
   "metadata": {},
   "source": [
    "Q-3 Write a Python program to calculate the number of days between two dates."
   ]
  },
  {
   "cell_type": "code",
   "execution_count": 15,
   "id": "22d63b9e",
   "metadata": {},
   "outputs": [
    {
     "name": "stdout",
     "output_type": "stream",
     "text": [
      "9 days\n"
     ]
    }
   ],
   "source": [
    "from datetime import date\n",
    "\n",
    "def numOfDays(date1, date2):\n",
    "\treturn (date2-date1).days\n",
    "\t\n",
    "date1 = date(2014, 7, 2)\n",
    "date2 = date(2014, 7, 11)\n",
    "print(numOfDays(date1, date2), \"days\")"
   ]
  }
 ],
 "metadata": {
  "kernelspec": {
   "display_name": "Python 3",
   "language": "python",
   "name": "python3"
  },
  "language_info": {
   "codemirror_mode": {
    "name": "ipython",
    "version": 3
   },
   "file_extension": ".py",
   "mimetype": "text/x-python",
   "name": "python",
   "nbconvert_exporter": "python",
   "pygments_lexer": "ipython3",
   "version": "3.8.8"
  }
 },
 "nbformat": 4,
 "nbformat_minor": 5
}
