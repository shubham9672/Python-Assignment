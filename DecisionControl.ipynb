{
 "cells": [
  {
   "cell_type": "markdown",
   "id": "dc27b8c3",
   "metadata": {},
   "source": [
    "Q-1 Write a Python program to get a new string from a given string where \"Is\" has been added to the front. \n",
    "If the given string already begins with \"Is\" then return the string unchanged."
   ]
  },
  {
   "cell_type": "code",
   "execution_count": 3,
   "id": "f5d45406",
   "metadata": {},
   "outputs": [
    {
     "name": "stdout",
     "output_type": "stream",
     "text": [
      "Enter the string: enable\n",
      "Isenable\n"
     ]
    }
   ],
   "source": [
    "def addIs(string):\n",
    "    if(string[:2].lower()=='is'):\n",
    "        return string\n",
    "    else:\n",
    "        return f'Is{string}'\n",
    "\n",
    "string=input('Enter the string: ')\n",
    "print(addIs(string))"
   ]
  },
  {
   "cell_type": "markdown",
   "id": "fd04696c",
   "metadata": {},
   "source": [
    "Q-2 Write a Python program to find whether a given number (accept from the user) \n",
    "is even or odd, print out an appropriate message to the user."
   ]
  },
  {
   "cell_type": "code",
   "execution_count": 5,
   "id": "a808e1ca",
   "metadata": {},
   "outputs": [
    {
     "name": "stdout",
     "output_type": "stream",
     "text": [
      "Please Enter number: 12\n",
      "Provided Number is Even\n"
     ]
    }
   ],
   "source": [
    "def oddEven(num):\n",
    "    if num%2==0:\n",
    "        return 'Provided Number is Even'\n",
    "    else:\n",
    "        return 'Provided Number is Odd'\n",
    "n=int(input('Please Enter number: '))\n",
    "print(oddEven(n))"
   ]
  },
  {
   "cell_type": "markdown",
   "id": "ab9e5134",
   "metadata": {},
   "source": [
    "Q-3 Write a Python program to test whether a passed letter is a vowel or not."
   ]
  },
  {
   "cell_type": "code",
   "execution_count": 9,
   "id": "8e997d2c",
   "metadata": {},
   "outputs": [
    {
     "name": "stdout",
     "output_type": "stream",
     "text": [
      "Please Enter the character: h\n",
      "h is not a vowel\n"
     ]
    }
   ],
   "source": [
    "char=input('Please Enter the character: ')\n",
    "s='aeiouAEIOU'\n",
    "if char in s:\n",
    "    print(f'{char} is a vowel')\n",
    "else:\n",
    "    print(f'{char} is not a vowel')    "
   ]
  }
 ],
 "metadata": {
  "kernelspec": {
   "display_name": "Python 3",
   "language": "python",
   "name": "python3"
  },
  "language_info": {
   "codemirror_mode": {
    "name": "ipython",
    "version": 3
   },
   "file_extension": ".py",
   "mimetype": "text/x-python",
   "name": "python",
   "nbconvert_exporter": "python",
   "pygments_lexer": "ipython3",
   "version": "3.8.8"
  }
 },
 "nbformat": 4,
 "nbformat_minor": 5
}
