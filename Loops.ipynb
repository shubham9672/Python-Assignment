{
 "cells": [
  {
   "cell_type": "markdown",
   "id": "8918a1ed",
   "metadata": {},
   "source": [
    "Q-1  Write a Python program to concatenate all elements in a list into a string and return it"
   ]
  },
  {
   "cell_type": "code",
   "execution_count": 1,
   "id": "1229ff20",
   "metadata": {},
   "outputs": [
    {
     "name": "stdout",
     "output_type": "stream",
     "text": [
      "Enter list elements seprated with space : 2 5 6 8 19\n",
      "256819\n"
     ]
    }
   ],
   "source": [
    "def listToString(l):\n",
    "    res=''\n",
    "    for value in l:\n",
    "        res+=str(value)\n",
    "    return res\n",
    "\n",
    "l=list(map(int,input(\"Enter list elements seprated with space : \").split(' ')))\n",
    "print(listToString(l))"
   ]
  },
  {
   "cell_type": "markdown",
   "id": "7b86e7dc",
   "metadata": {},
   "source": [
    "Q-2 Write a Python program to print out a set containing all the colors from \n",
    "color_list_1 which are not present in color_list_2."
   ]
  },
  {
   "cell_type": "code",
   "execution_count": 5,
   "id": "620176a2",
   "metadata": {},
   "outputs": [
    {
     "name": "stdout",
     "output_type": "stream",
     "text": [
      "The difference between 2 sets are: {'White', 'Black'}\n"
     ]
    }
   ],
   "source": [
    "color_list_1=set([\"White\",\"Black\",\"Red\"])\n",
    "color_list_2=set([\"Red\",\"Green\"])\n",
    "res=[]\n",
    "for val in color_list_1:\n",
    "    if val not in color_list_2:\n",
    "        res.append(val)\n",
    "print(f'The difference between 2 sets are: {set(res)}')"
   ]
  }
 ],
 "metadata": {
  "kernelspec": {
   "display_name": "Python 3",
   "language": "python",
   "name": "python3"
  },
  "language_info": {
   "codemirror_mode": {
    "name": "ipython",
    "version": 3
   },
   "file_extension": ".py",
   "mimetype": "text/x-python",
   "name": "python",
   "nbconvert_exporter": "python",
   "pygments_lexer": "ipython3",
   "version": "3.8.8"
  }
 },
 "nbformat": 4,
 "nbformat_minor": 5
}
