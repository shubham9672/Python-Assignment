{
 "cells": [
  {
   "cell_type": "markdown",
   "id": "dfb4fba4",
   "metadata": {},
   "source": [
    "Q-1 Write a function in a Python program to compute the greatest common divisor (GCD) of two positive integers."
   ]
  },
  {
   "cell_type": "code",
   "execution_count": 3,
   "id": "7e456d48",
   "metadata": {},
   "outputs": [
    {
     "name": "stdout",
     "output_type": "stream",
     "text": [
      "Enter 1st number: 10\n",
      "Enter 2nd number: 15\n",
      "greatest common divisor of 10 & 15=5\n"
     ]
    }
   ],
   "source": [
    "def gcd(x,y):\n",
    "    if(y==0):\n",
    "        return x\n",
    "    else:\n",
    "        return gcd(y,x%y)\n",
    "x=int(input('Enter 1st number: '))\n",
    "y=int(input('Enter 2nd number: '))\n",
    "print(f'greatest common divisor of {x} & {y}={gcd(x,y)}')"
   ]
  },
  {
   "cell_type": "markdown",
   "id": "94c64742",
   "metadata": {},
   "source": [
    "Q-2 Write a Python function which accepts two arguments x and y and returns (x + y) * (x + y)."
   ]
  },
  {
   "cell_type": "code",
   "execution_count": 2,
   "id": "109eb6d4",
   "metadata": {},
   "outputs": [
    {
     "name": "stdout",
     "output_type": "stream",
     "text": [
      "Enter 1st number: 4\n",
      "Enter 2nd number: 3\n",
      "(x + y) * (x + y)=49\n"
     ]
    }
   ],
   "source": [
    "def valueReturn(x,y):\n",
    "    return (x+y)**2\n",
    "x=int(input('Enter 1st number: '))\n",
    "y=int(input('Enter 2nd number: '))\n",
    "print(f'(x + y) * (x + y)={valueReturn(x,y)}')"
   ]
  }
 ],
 "metadata": {
  "kernelspec": {
   "display_name": "Python 3",
   "language": "python",
   "name": "python3"
  },
  "language_info": {
   "codemirror_mode": {
    "name": "ipython",
    "version": 3
   },
   "file_extension": ".py",
   "mimetype": "text/x-python",
   "name": "python",
   "nbconvert_exporter": "python",
   "pygments_lexer": "ipython3",
   "version": "3.8.8"
  }
 },
 "nbformat": 4,
 "nbformat_minor": 5
}
