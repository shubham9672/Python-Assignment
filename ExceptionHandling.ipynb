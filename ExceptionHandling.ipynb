{
 "cells": [
  {
   "cell_type": "markdown",
   "id": "2e79515e",
   "metadata": {},
   "source": [
    "Q-1 Write a function that raises 5 built in python exceptions without using the raise key word and\n",
    "print appropriate messages for each exception."
   ]
  },
  {
   "cell_type": "code",
   "execution_count": 6,
   "id": "a53ddf51",
   "metadata": {},
   "outputs": [
    {
     "name": "stdout",
     "output_type": "stream",
     "text": [
      "Int & String are different datatype\n",
      "Variable Name Error\n"
     ]
    }
   ],
   "source": [
    "from decimal import DivisionByZero\n",
    "def InputError():\n",
    "    try:\n",
    "        no=int(input(\"Enter the Number\"))\n",
    "        print(no)\n",
    "    except ValueError:\n",
    "        print(\"Input must be a Number\")\n",
    "def divideByZero():\n",
    "    try:\n",
    "        print(10/0)\n",
    "    except DivisionByZero as error:\n",
    "        print(error)\n",
    "def indexError():\n",
    "    try:\n",
    "        l=[2,3,5]\n",
    "        print(l[7])\n",
    "    except IndexError as error:\n",
    "        print('Out of index')\n",
    "def dataTypeError():\n",
    "    try:\n",
    "        print(5+\"5\")\n",
    "    except TypeError as error:\n",
    "        print(\"Int & String are different datatype\")\n",
    "def nameError():\n",
    "    try:\n",
    "        var=5\n",
    "        print(v)\n",
    "    except NameError as error:\n",
    "        print(\"Variable Name Error\")\n",
    "\n",
    "#InputError()\n",
    "#divideByZero()\n",
    "#indexError()\n",
    "dataTypeError()\n",
    "nameError()"
   ]
  },
  {
   "cell_type": "markdown",
   "id": "f285d2e1",
   "metadata": {},
   "source": [
    "Q-2 Create 4 custom exception classes that inherit from the exception class. Your function must take a person object as an input. \n",
    "* Raise an exception for the following cases: invalid name, invalid age, invalid email, invalid phone number. \n",
    "* Write appropriate messages for each exception. If no exception has occurred, only then add the object to a global array of persons.\n"
   ]
  },
  {
   "cell_type": "code",
   "execution_count": 16,
   "id": "c3f7eccc",
   "metadata": {},
   "outputs": [
    {
     "name": "stdout",
     "output_type": "stream",
     "text": [
      "[18, 'Shubham', 'Shubham@gmail.com', '1234567890']\n"
     ]
    }
   ],
   "source": [
    "import re\n",
    "person = []\n",
    "\n",
    "class CoustomError(Exception):\n",
    " \n",
    "    def __init__(self, age, name, email, phn,msg=''):\n",
    "        self.age = age\n",
    "        self.name = name\n",
    "        self.email = email\n",
    "        self.phn = phn\n",
    "        self.msg=msg\n",
    "\n",
    "    def check_ages(self):  # if age is less than 0 then age is Invalid\n",
    "        try:\n",
    "            if self.age > 0:\n",
    "                person.append(self.age)\n",
    "            else:\n",
    "                raise CoustomError('','','','','Exception AgeInvalidError: Age must be greater than 0')\n",
    "        except CoustomError as error:\n",
    "            print(error.msg)\n",
    "    def check_name(self): # if name contains any number \n",
    "        try:\n",
    "            if not any(char.isdigit() for char in self.name):\n",
    "                person.append(self.name)\n",
    "            else:\n",
    "                raise CoustomError('','','','',\"Exception InvalidNameError: Name must not contain digit\")\n",
    "        except CoustomError as error:\n",
    "            print(error.msg)\n",
    "            \n",
    "            \n",
    "    def check_email(self):    # if email contains '@' and '.' then email is valid\n",
    "        regex = r'\\b[A-Za-z0-9._%+-]+@[A-Za-z0-9.-]+\\.[A-Z|a-z]{2,}\\b'\n",
    "        try:\n",
    "            if(re.fullmatch(regex, self.email)):\n",
    "                person.append(self.email)\n",
    "            else:\n",
    "                raise CoustomError('','','','',\"Exception InvalidEmailError: Email is invalis Email should be valid\")\n",
    "        except CoustomError as error:\n",
    "            print(error.msg)\n",
    "            \n",
    "    def check_phn(self):    # if length of phone number is 10 then phone number is valid\n",
    "        try:\n",
    "            if len(self.phn) == 10 and all(char.isdigit() for char in self.phn):\n",
    "                person.append(self.phn)\n",
    "            else:\n",
    "                raise CoustomError('','','','',\"Exception InvalidPhoneNumberError: Phone number should be digits & length of 10\")\n",
    "        except CoustomError as error:\n",
    "            print(error.msg)\n",
    "        \n",
    "\n",
    "ob = CoustomError(18, \"Shubham\", \"Shubham@gmail.com\", \"1234567890\")   # Given input\n",
    "ob.check_ages()\n",
    "ob.check_name()\n",
    "ob.check_email()\n",
    "ob.check_phn()\n",
    "if len(person) == 4:\n",
    "    print(person)\n",
    "else:\n",
    "    person.clear()"
   ]
  }
 ],
 "metadata": {
  "kernelspec": {
   "display_name": "Python 3",
   "language": "python",
   "name": "python3"
  },
  "language_info": {
   "codemirror_mode": {
    "name": "ipython",
    "version": 3
   },
   "file_extension": ".py",
   "mimetype": "text/x-python",
   "name": "python",
   "nbconvert_exporter": "python",
   "pygments_lexer": "ipython3",
   "version": "3.8.8"
  }
 },
 "nbformat": 4,
 "nbformat_minor": 5
}
